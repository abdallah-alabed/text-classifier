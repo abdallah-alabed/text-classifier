{
 "cells": [
  {
   "cell_type": "markdown",
   "id": "49e55045-d20b-4c64-a234-4d3291479b1b",
   "metadata": {},
   "source": [
    "# Machine Learning Intro (sentiment analysis)"
   ]
  },
  {
   "cell_type": "markdown",
   "id": "05806861-dde2-4fa5-a74f-2b8c5e172673",
   "metadata": {},
   "source": [
    "## Initialization"
   ]
  },
  {
   "cell_type": "code",
   "execution_count": 1,
   "id": "eb30dbfe-94b1-4263-b685-2faeb0eed9f4",
   "metadata": {},
   "outputs": [],
   "source": [
    "import pandas as pd\n",
    "from sklearn.feature_extraction.text import CountVectorizer\n",
    "from sklearn.model_selection import train_test_split\n",
    "from sklearn.feature_extraction.text import CountVectorizer\n",
    "from sklearn.linear_model import LogisticRegression\n",
    "import matplotlib.pyplot as plt"
   ]
  },
  {
   "cell_type": "markdown",
   "id": "e4f380e6-705c-41f6-a402-d7a1cca77d96",
   "metadata": {},
   "source": [
    "## Getting and Labelling the Data"
   ]
  },
  {
   "cell_type": "code",
   "execution_count": 2,
   "id": "8f253e0d-cea5-4469-b079-6dec2c5ec4be",
   "metadata": {},
   "outputs": [],
   "source": [
    "filepath_dict = {'yelp':   'data/yelp_labelled.txt',\n",
    "                 'amazon': 'data/amazon_cells_labelled.txt',\n",
    "                 'imdb':   'data/imdb_labelled.txt'}\n",
    "df_list = []\n",
    "for source, filepath in filepath_dict.items():\n",
    "    df = pd.read_csv(filepath, names=['sentence', 'label'], sep='\\t')\n",
    "    df['source'] = source  \n",
    "    df_list.append(df)\n",
    "\n",
    "df = pd.concat(df_list)"
   ]
  },
  {
   "cell_type": "markdown",
   "id": "048c8dd0-de3b-43e1-97bc-ac179234f194",
   "metadata": {},
   "source": [
    "## Defining a Baseline Model (YELP)"
   ]
  },
  {
   "cell_type": "code",
   "execution_count": 3,
   "id": "5a16b459-d57b-47c1-835a-2abfb2a2def5",
   "metadata": {},
   "outputs": [],
   "source": [
    "df_yelp = df[df['source'] == 'yelp']\n",
    "X = df_yelp['sentence'].values\n",
    "Y = df_yelp['label'].values"
   ]
  },
  {
   "cell_type": "code",
   "execution_count": 4,
   "id": "0cef6be7-c5d3-4296-ace1-0c896dacd6e9",
   "metadata": {},
   "outputs": [],
   "source": [
    "x_train, x_test, y_train, y_test = train_test_split(X,Y, test_size=0.25, random_state=10)"
   ]
  },
  {
   "cell_type": "code",
   "execution_count": 5,
   "id": "bbc0e946-8d4b-4142-bcd1-9a428c0e1f77",
   "metadata": {},
   "outputs": [
    {
     "data": {
      "text/plain": [
       "CountVectorizer()"
      ]
     },
     "execution_count": 5,
     "metadata": {},
     "output_type": "execute_result"
    }
   ],
   "source": [
    "vectorizer = CountVectorizer()\n",
    "vectorizer.fit(x_train)"
   ]
  },
  {
   "cell_type": "code",
   "execution_count": 6,
   "id": "3fe8fe0c-8c7a-4909-adff-8390efdd50b5",
   "metadata": {},
   "outputs": [
    {
     "data": {
      "text/plain": [
       "<750x1709 sparse matrix of type '<class 'numpy.int64'>'\n",
       "\twith 7358 stored elements in Compressed Sparse Row format>"
      ]
     },
     "execution_count": 6,
     "metadata": {},
     "output_type": "execute_result"
    }
   ],
   "source": [
    "transformed_X_train = vectorizer.transform(x_train)\n",
    "transformed_X_test  = vectorizer.transform(x_test)\n",
    "transformed_X_train"
   ]
  },
  {
   "cell_type": "code",
   "execution_count": 7,
   "id": "e4b7b734-ab41-4e58-86bb-e20a790bf8cc",
   "metadata": {},
   "outputs": [
    {
     "name": "stdout",
     "output_type": "stream",
     "text": [
      "Accuracy: 0.828\n"
     ]
    }
   ],
   "source": [
    "classifier = LogisticRegression()\n",
    "classifier.fit(transformed_X_train, y_train)\n",
    "score_yelp = classifier.score(transformed_X_test, y_test)\n",
    "print(\"Accuracy:\", score_yelp)"
   ]
  },
  {
   "cell_type": "markdown",
   "id": "c1319840-2b13-4bc9-9979-a4c9293471fa",
   "metadata": {},
   "source": [
    "## Keras Model (YELP)"
   ]
  },
  {
   "cell_type": "code",
   "execution_count": 8,
   "id": "b565d397-ed08-46bc-a9e4-3de92f59bbeb",
   "metadata": {},
   "outputs": [
    {
     "name": "stderr",
     "output_type": "stream",
     "text": [
      "2021-11-21 14:44:23.671419: W tensorflow/stream_executor/platform/default/dso_loader.cc:64] Could not load dynamic library 'libcudart.so.11.0'; dlerror: libcudart.so.11.0: cannot open shared object file: No such file or directory\n",
      "2021-11-21 14:44:23.671459: I tensorflow/stream_executor/cuda/cudart_stub.cc:29] Ignore above cudart dlerror if you do not have a GPU set up on your machine.\n"
     ]
    }
   ],
   "source": [
    "input_dim = transformed_X_train.shape[1]\n",
    "from keras.models import Sequential\n",
    "from keras import layers"
   ]
  },
  {
   "cell_type": "code",
   "execution_count": 9,
   "id": "fee86934-4643-4f3c-a40f-604db9162736",
   "metadata": {},
   "outputs": [
    {
     "name": "stderr",
     "output_type": "stream",
     "text": [
      "2021-11-21 14:44:24.804346: W tensorflow/stream_executor/platform/default/dso_loader.cc:64] Could not load dynamic library 'libcuda.so.1'; dlerror: libcuda.so.1: cannot open shared object file: No such file or directory\n",
      "2021-11-21 14:44:24.804428: W tensorflow/stream_executor/cuda/cuda_driver.cc:269] failed call to cuInit: UNKNOWN ERROR (303)\n",
      "2021-11-21 14:44:24.804477: I tensorflow/stream_executor/cuda/cuda_diagnostics.cc:156] kernel driver does not appear to be running on this host (LAPTOP-V04RM6SF): /proc/driver/nvidia/version does not exist\n",
      "2021-11-21 14:44:24.804744: I tensorflow/core/platform/cpu_feature_guard.cc:151] This TensorFlow binary is optimized with oneAPI Deep Neural Network Library (oneDNN) to use the following CPU instructions in performance-critical operations:  AVX2 FMA\n",
      "To enable them in other operations, rebuild TensorFlow with the appropriate compiler flags.\n"
     ]
    }
   ],
   "source": [
    "model = Sequential()\n",
    "model.add(layers.Dense(10, input_dim=input_dim, activation='relu'))\n",
    "model.add(layers.Dense(1, activation='sigmoid'))"
   ]
  },
  {
   "cell_type": "code",
   "execution_count": 10,
   "id": "c6e1df07-d2d0-47e5-a16c-4cbe67424b42",
   "metadata": {},
   "outputs": [
    {
     "name": "stdout",
     "output_type": "stream",
     "text": [
      "Model: \"sequential\"\n",
      "_________________________________________________________________\n",
      " Layer (type)                Output Shape              Param #   \n",
      "=================================================================\n",
      " dense (Dense)               (None, 10)                17100     \n",
      "                                                                 \n",
      " dense_1 (Dense)             (None, 1)                 11        \n",
      "                                                                 \n",
      "=================================================================\n",
      "Total params: 17,111\n",
      "Trainable params: 17,111\n",
      "Non-trainable params: 0\n",
      "_________________________________________________________________\n"
     ]
    }
   ],
   "source": [
    "model.compile(loss='binary_crossentropy',optimizer='adam',metrics=['accuracy'])\n",
    "model.summary()\n"
   ]
  },
  {
   "cell_type": "code",
   "execution_count": 11,
   "id": "5d69e35e-3d0b-4e70-ba5b-fb2d7a0ab0d2",
   "metadata": {},
   "outputs": [
    {
     "name": "stderr",
     "output_type": "stream",
     "text": [
      "/home/abdallah-alabed/text-classifier/.venv/lib/python3.9/site-packages/tensorflow/python/framework/indexed_slices.py:448: UserWarning: Converting sparse IndexedSlices(IndexedSlices(indices=Tensor(\"gradient_tape/sequential/dense/embedding_lookup_sparse/Reshape_1:0\", shape=(None,), dtype=int32), values=Tensor(\"gradient_tape/sequential/dense/embedding_lookup_sparse/Reshape:0\", shape=(None, 10), dtype=float32), dense_shape=Tensor(\"gradient_tape/sequential/dense/embedding_lookup_sparse/Cast:0\", shape=(2,), dtype=int32))) to a dense Tensor of unknown shape. This may consume a large amount of memory.\n",
      "  warnings.warn(\n"
     ]
    }
   ],
   "source": [
    "history = model.fit(transformed_X_train, y_train,\n",
    "...                     epochs=100,\n",
    "...                     verbose=False,\n",
    "...                     validation_data=(transformed_X_test, y_test),\n",
    "...                     batch_size=10)"
   ]
  },
  {
   "cell_type": "code",
   "execution_count": 12,
   "id": "e7cec3d5-c782-4803-806c-9db235a7f413",
   "metadata": {},
   "outputs": [],
   "source": [
    "from keras.backend import clear_session\n",
    "clear_session()"
   ]
  },
  {
   "cell_type": "code",
   "execution_count": 13,
   "id": "dc422e16-c00b-460d-b3f2-d9f5532123bf",
   "metadata": {},
   "outputs": [
    {
     "name": "stdout",
     "output_type": "stream",
     "text": [
      "Training Accuracy: 1.0000\n",
      "Testing Accuracy:  0.8280\n"
     ]
    }
   ],
   "source": [
    "loss, accuracy = model.evaluate(transformed_X_train, y_train, verbose=False)\n",
    "print(\"Training Accuracy: {:.4f}\".format(accuracy))\n",
    "loss, accuracy = model.evaluate(transformed_X_test, y_test, verbose=False)\n",
    "print(\"Testing Accuracy:  {:.4f}\".format(accuracy))"
   ]
  },
  {
   "cell_type": "code",
   "execution_count": 14,
   "id": "6cdeb85c-b10b-48e2-96de-39ffa1ec27e0",
   "metadata": {},
   "outputs": [
    {
     "data": {
      "image/png": "[encoded data removed]",
      "text/plain": [
       "<Figure size 864x360 with 2 Axes>"
      ]
     },
     "metadata": {},
     "output_type": "display_data"
    }
   ],
   "source": [
    "plt.style.use('ggplot')\n",
    "def plot_history(history):\n",
    "    acc = history.history['accuracy']\n",
    "    val_acc = history.history['val_accuracy']\n",
    "    loss = history.history['loss']\n",
    "    val_loss = history.history['val_loss']\n",
    "    x = range(1, len(acc) + 1)\n",
    "    plt.figure(figsize=(12, 5))\n",
    "    plt.subplot(1, 2, 1)\n",
    "    plt.plot(x, acc, 'b', label='Training acc')\n",
    "    plt.plot(x, val_acc, 'r', label='Validation acc')\n",
    "    plt.title('Training and validation accuracy')\n",
    "    plt.legend()\n",
    "    plt.subplot(1, 2, 2)\n",
    "    plt.plot(x, loss, 'b', label='Training loss')\n",
    "    plt.plot(x, val_loss, 'r', label='Validation loss')\n",
    "    plt.title('Training and validation loss')\n",
    "    plt.legend()\n",
    "plot_history(history)"
   ]
  },
  {
   "cell_type": "markdown",
   "id": "3d7417a4-2d56-41a6-9f47-039304441f2f",
   "metadata": {},
   "source": [
    "## Defining a Baseline Model (IMDB)"
   ]
  },
  {
   "cell_type": "code",
   "execution_count": 15,
   "id": "7ea315f9-70da-4e69-a187-50dcc489688c",
   "metadata": {},
   "outputs": [],
   "source": [
    "df_imdb = df[df['source'] == 'imdb']\n",
    "X_imdb = df_imdb['sentence'].values\n",
    "Y_imdb = df_imdb['label'].values"
   ]
  },
  {
   "cell_type": "code",
   "execution_count": 16,
   "id": "34a73b90-5416-4a4e-bfc5-d257d0bf0e87",
   "metadata": {},
   "outputs": [
    {
     "data": {
      "text/plain": [
       "CountVectorizer()"
      ]
     },
     "execution_count": 16,
     "metadata": {},
     "output_type": "execute_result"
    }
   ],
   "source": [
    "x_imdb_train, x_imdb_test, y_imdb_train, y_imdb_test = train_test_split(X_imdb,Y_imdb, test_size=0.25, random_state=10)\n",
    "vectorizer = CountVectorizer()\n",
    "vectorizer.fit(x_imdb_train)"
   ]
  },
  {
   "cell_type": "code",
   "execution_count": 17,
   "id": "aaf6bc1d-5bfc-4769-a44a-7fd5c6841ef4",
   "metadata": {},
   "outputs": [
    {
     "data": {
      "text/plain": [
       "<561x2663 sparse matrix of type '<class 'numpy.int64'>'\n",
       "\twith 8936 stored elements in Compressed Sparse Row format>"
      ]
     },
     "execution_count": 17,
     "metadata": {},
     "output_type": "execute_result"
    }
   ],
   "source": [
    "transformed_X_imdb_train = vectorizer.transform(x_imdb_train)\n",
    "transformed_X_imdb_test  = vectorizer.transform(x_imdb_test)\n",
    "transformed_X_imdb_train"
   ]
  },
  {
   "cell_type": "code",
   "execution_count": 18,
   "id": "fce83476-3ab4-45ab-be06-e5d758a75372",
   "metadata": {},
   "outputs": [
    {
     "name": "stdout",
     "output_type": "stream",
     "text": [
      "Accuracy: 0.786096256684492\n"
     ]
    }
   ],
   "source": [
    "# classifier = LogisticRegression()\n",
    "classifier.fit(transformed_X_imdb_train, y_imdb_train)\n",
    "score_imdb = classifier.score(transformed_X_imdb_test, y_imdb_test)\n",
    "print(\"Accuracy:\", score_imdb)"
   ]
  },
  {
   "cell_type": "markdown",
   "id": "52a9fc87-2f32-4b31-b014-af2007f9cf7a",
   "metadata": {},
   "source": [
    "## Keras Model (IMDB)"
   ]
  },
  {
   "cell_type": "code",
   "execution_count": 19,
   "id": "18ff6c7b-9f72-4ab3-9430-966f4a5d0cf3",
   "metadata": {},
   "outputs": [],
   "source": [
    "input_dim = transformed_X_imdb_train.shape[1]\n",
    "from keras.models import Sequential\n",
    "from keras import layers"
   ]
  },
  {
   "cell_type": "code",
   "execution_count": 20,
   "id": "57164137-fbf4-460c-8a9e-66ca7820e876",
   "metadata": {},
   "outputs": [],
   "source": [
    "model = Sequential()\n",
    "model.add(layers.Dense(10, input_dim=input_dim, activation='relu'))\n",
    "model.add(layers.Dense(1, activation='sigmoid'))"
   ]
  },
  {
   "cell_type": "code",
   "execution_count": 21,
   "id": "07796c88-2a41-4191-904d-24dc614c9728",
   "metadata": {},
   "outputs": [
    {
     "name": "stdout",
     "output_type": "stream",
     "text": [
      "Model: \"sequential\"\n",
      "_________________________________________________________________\n",
      " Layer (type)                Output Shape              Param #   \n",
      "=================================================================\n",
      " dense (Dense)               (None, 10)                26640     \n",
      "                                                                 \n",
      " dense_1 (Dense)             (None, 1)                 11        \n",
      "                                                                 \n",
      "=================================================================\n",
      "Total params: 26,651\n",
      "Trainable params: 26,651\n",
      "Non-trainable params: 0\n",
      "_________________________________________________________________\n"
     ]
    }
   ],
   "source": [
    "model.compile(loss='binary_crossentropy',optimizer='adam',metrics=['accuracy'])\n",
    "model.summary()"
   ]
  },
  {
   "cell_type": "code",
   "execution_count": 22,
   "id": "bb536edb-3ceb-4d24-97ed-13e856c517dd",
   "metadata": {},
   "outputs": [
    {
     "name": "stderr",
     "output_type": "stream",
     "text": [
      "/home/abdallah-alabed/text-classifier/.venv/lib/python3.9/site-packages/tensorflow/python/framework/indexed_slices.py:448: UserWarning: Converting sparse IndexedSlices(IndexedSlices(indices=Tensor(\"gradient_tape/sequential/dense/embedding_lookup_sparse/Reshape_1:0\", shape=(None,), dtype=int32), values=Tensor(\"gradient_tape/sequential/dense/embedding_lookup_sparse/Reshape:0\", shape=(None, 10), dtype=float32), dense_shape=Tensor(\"gradient_tape/sequential/dense/embedding_lookup_sparse/Cast:0\", shape=(2,), dtype=int32))) to a dense Tensor of unknown shape. This may consume a large amount of memory.\n",
      "  warnings.warn(\n"
     ]
    }
   ],
   "source": [
    "history = model.fit(transformed_X_imdb_train, y_imdb_train,\n",
    "...                     epochs=100,\n",
    "...                     verbose=False,\n",
    "...                     validation_data=(transformed_X_imdb_test, y_imdb_test),\n",
    "...                     batch_size=10)"
   ]
  },
  {
   "cell_type": "code",
   "execution_count": 23,
   "id": "49f1a457-1950-440d-ba41-34f155397be7",
   "metadata": {},
   "outputs": [],
   "source": [
    "from keras.backend import clear_session\n",
    "clear_session()"
   ]
  },
  {
   "cell_type": "code",
   "execution_count": 24,
   "id": "f152a425-174c-44d9-ad7f-7d3a7a516131",
   "metadata": {},
   "outputs": [
    {
     "name": "stdout",
     "output_type": "stream",
     "text": [
      "Training Accuracy: 1.0000\n",
      "Testing Accuracy:  0.8235\n"
     ]
    }
   ],
   "source": [
    "loss, accuracy = model.evaluate(transformed_X_imdb_train, y_imdb_train, verbose=False)\n",
    "print(\"Training Accuracy: {:.4f}\".format(accuracy))\n",
    "loss, accuracy = model.evaluate(transformed_X_imdb_test, y_imdb_test, verbose=False)\n",
    "print(\"Testing Accuracy:  {:.4f}\".format(accuracy))"
   ]
  },
  {
   "cell_type": "code",
   "execution_count": 25,
   "id": "0c076ea8-54d5-437f-8000-7fd4b48b9457",
   "metadata": {},
   "outputs": [],
   "source": [
    "plt.style.use('ggplot')\n",
    "def plot_history(history):\n",
    "    acc = history.history['accuracy']\n",
    "    val_acc = history.history['val_accuracy']\n",
    "    loss = history.history['loss']\n",
    "    val_loss = history.history['val_loss']\n",
    "    x = range(1, len(acc) + 1)\n",
    "\n",
    "    plt.figure(figsize=(12, 5))\n",
    "    plt.subplot(1, 2, 1)\n",
    "    plt.plot(x, acc, 'b', label='Training acc')\n",
    "    plt.plot(x, val_acc, 'r', label='Validation acc')\n",
    "    plt.title('Training and validation accuracy')\n",
    "    plt.legend()\n",
    "    plt.subplot(1, 2, 2)\n",
    "    plt.plot(x, loss, 'b', label='Training loss')\n",
    "    plt.plot(x, val_loss, 'r', label='Validation loss')\n",
    "    plt.title('Training and validation loss')\n",
    "    plt.legend()"
   ]
  },
  {
   "cell_type": "code",
   "execution_count": 26,
   "id": "f6493d6f-9974-43d0-bd7c-f2ef81c87496",
   "metadata": {},
   "outputs": [
    {
     "data": {
      "image/png": "[encoded data removed]",
      "text/plain": [
       "<Figure size 864x360 with 2 Axes>"
      ]
     },
     "metadata": {},
     "output_type": "display_data"
    }
   ],
   "source": [
    "plot_history(history)"
   ]
  },
  {
   "cell_type": "markdown",
   "id": "8ffffa20-25f6-4f7f-ad59-44bf89522cd2",
   "metadata": {},
   "source": [
    "## Defining a Baseline Model (AMAZON)"
   ]
  },
  {
   "cell_type": "code",
   "execution_count": 27,
   "id": "3cab6490-501b-4d19-a62f-c13c6171d14c",
   "metadata": {},
   "outputs": [],
   "source": [
    "df_amz = df[df['source'] == 'amazon']\n",
    "X_amz = df_amz['sentence'].values\n",
    "Y_amz = df_amz['label'].values"
   ]
  },
  {
   "cell_type": "code",
   "execution_count": 28,
   "id": "082f9aae-44cf-483e-88c7-7aa670450566",
   "metadata": {},
   "outputs": [
    {
     "data": {
      "text/plain": [
       "CountVectorizer()"
      ]
     },
     "execution_count": 28,
     "metadata": {},
     "output_type": "execute_result"
    }
   ],
   "source": [
    "x_amz_train, x_amz_test, y_amz_train, y_amz_test = train_test_split(X_amz,Y_amz, test_size=0.25, random_state=100)\n",
    "vectorizer = CountVectorizer()\n",
    "vectorizer.fit(x_amz_train)"
   ]
  },
  {
   "cell_type": "code",
   "execution_count": 29,
   "id": "2bd80bd3-93eb-4002-a5a8-b7d50cad4c8e",
   "metadata": {},
   "outputs": [
    {
     "data": {
      "text/plain": [
       "<750x1551 sparse matrix of type '<class 'numpy.int64'>'\n",
       "\twith 6870 stored elements in Compressed Sparse Row format>"
      ]
     },
     "execution_count": 29,
     "metadata": {},
     "output_type": "execute_result"
    }
   ],
   "source": [
    "transformed_X_amz_train = vectorizer.transform(x_amz_train)\n",
    "transformed_X_amz_test  = vectorizer.transform(x_amz_test)\n",
    "transformed_X_amz_train"
   ]
  },
  {
   "cell_type": "code",
   "execution_count": 30,
   "id": "46877a0d-0707-49b4-905d-d3b4b728b101",
   "metadata": {},
   "outputs": [
    {
     "name": "stdout",
     "output_type": "stream",
     "text": [
      "Accuracy: 0.82\n"
     ]
    }
   ],
   "source": [
    "# classifier = LogisticRegression()\n",
    "classifier.fit(transformed_X_amz_train, y_amz_train)\n",
    "score_amz = classifier.score(transformed_X_amz_test, y_amz_test)\n",
    "print(\"Accuracy:\", score_amz)"
   ]
  },
  {
   "cell_type": "markdown",
   "id": "7d8cbd14-ea3f-4687-90b7-3775d4d9a93b",
   "metadata": {},
   "source": [
    "## Keras Model (AMAZON)"
   ]
  },
  {
   "cell_type": "code",
   "execution_count": 31,
   "id": "0f9bf0e2-9948-4375-ac2e-e8fd4def3eb7",
   "metadata": {},
   "outputs": [],
   "source": [
    "input_dim = transformed_X_amz_train.shape[1]\n",
    "from keras.models import Sequential\n",
    "from keras import layers"
   ]
  },
  {
   "cell_type": "code",
   "execution_count": 32,
   "id": "6a30c4f3-06f3-40ee-a00f-89f6e03b0519",
   "metadata": {},
   "outputs": [],
   "source": [
    "model = Sequential()\n",
    "model.add(layers.Dense(10, input_dim=input_dim, activation='relu'))\n",
    "model.add(layers.Dense(1, activation='sigmoid'))"
   ]
  },
  {
   "cell_type": "code",
   "execution_count": 33,
   "id": "a86fb81e-3ce4-4b40-8546-53a80eb4890b",
   "metadata": {},
   "outputs": [
    {
     "name": "stdout",
     "output_type": "stream",
     "text": [
      "Model: \"sequential\"\n",
      "_________________________________________________________________\n",
      " Layer (type)                Output Shape              Param #   \n",
      "=================================================================\n",
      " dense (Dense)               (None, 10)                15520     \n",
      "                                                                 \n",
      " dense_1 (Dense)             (None, 1)                 11        \n",
      "                                                                 \n",
      "=================================================================\n",
      "Total params: 15,531\n",
      "Trainable params: 15,531\n",
      "Non-trainable params: 0\n",
      "_________________________________________________________________\n"
     ]
    }
   ],
   "source": [
    "model.compile(loss='binary_crossentropy',optimizer='adam',metrics=['accuracy'])\n",
    "model.summary()"
   ]
  },
  {
   "cell_type": "code",
   "execution_count": 34,
   "id": "86777769-7517-4365-830a-92ea685a863b",
   "metadata": {},
   "outputs": [
    {
     "name": "stderr",
     "output_type": "stream",
     "text": [
      "/home/abdallah-alabed/text-classifier/.venv/lib/python3.9/site-packages/tensorflow/python/framework/indexed_slices.py:448: UserWarning: Converting sparse IndexedSlices(IndexedSlices(indices=Tensor(\"gradient_tape/sequential/dense/embedding_lookup_sparse/Reshape_1:0\", shape=(None,), dtype=int32), values=Tensor(\"gradient_tape/sequential/dense/embedding_lookup_sparse/Reshape:0\", shape=(None, 10), dtype=float32), dense_shape=Tensor(\"gradient_tape/sequential/dense/embedding_lookup_sparse/Cast:0\", shape=(2,), dtype=int32))) to a dense Tensor of unknown shape. This may consume a large amount of memory.\n",
      "  warnings.warn(\n"
     ]
    }
   ],
   "source": [
    "history = model.fit(transformed_X_amz_train, y_amz_train,\n",
    "...                     epochs=100,\n",
    "...                     verbose=False,\n",
    "...                     validation_data=(transformed_X_amz_test, y_amz_test),\n",
    "...                     batch_size=10)"
   ]
  },
  {
   "cell_type": "code",
   "execution_count": 35,
   "id": "f83652fa-a0a6-4e95-83e3-bcd85c9590e5",
   "metadata": {},
   "outputs": [],
   "source": [
    "from keras.backend import clear_session\n",
    "clear_session()"
   ]
  },
  {
   "cell_type": "code",
   "execution_count": 36,
   "id": "8093a2cd-e8a3-4bb6-86f3-fce3e5ac7f5f",
   "metadata": {},
   "outputs": [
    {
     "name": "stdout",
     "output_type": "stream",
     "text": [
      "Training Accuracy: 1.0000\n",
      "Testing Accuracy:  0.8600\n"
     ]
    }
   ],
   "source": [
    "loss, accuracy = model.evaluate(transformed_X_amz_train, y_amz_train, verbose=False)\n",
    "print(\"Training Accuracy: {:.4f}\".format(accuracy))\n",
    "loss, accuracy = model.evaluate(transformed_X_amz_test, y_amz_test, verbose=False)\n",
    "print(\"Testing Accuracy:  {:.4f}\".format(accuracy))"
   ]
  },
  {
   "cell_type": "code",
   "execution_count": 37,
   "id": "dc066ae6-f35d-4af6-8782-2aab483d98cd",
   "metadata": {},
   "outputs": [],
   "source": [
    "plt.style.use('ggplot')\n",
    "def plot_history(history):\n",
    "    acc = history.history['accuracy']\n",
    "    val_acc = history.history['val_accuracy']\n",
    "    loss = history.history['loss']\n",
    "    val_loss = history.history['val_loss']\n",
    "    x = range(1, len(acc) + 1)\n",
    "\n",
    "    plt.figure(figsize=(12, 5))\n",
    "    plt.subplot(1, 2, 1)\n",
    "    plt.plot(x, acc, 'b', label='Training acc')\n",
    "    plt.plot(x, val_acc, 'r', label='Validation acc')\n",
    "    plt.title('Training and validation accuracy')\n",
    "    plt.legend()\n",
    "    plt.subplot(1, 2, 2)\n",
    "    plt.plot(x, loss, 'b', label='Training loss')\n",
    "    plt.plot(x, val_loss, 'r', label='Validation loss')\n",
    "    plt.title('Training and validation loss')\n",
    "    plt.legend()\n",
    "    "
   ]
  },
  {
   "cell_type": "code",
   "execution_count": 38,
   "id": "abb99cb3-f7dd-4f33-a641-f30a27b9a728",
   "metadata": {},
   "outputs": [
    {
     "data": {
      "image/png": "[encoded data removed]",
      "text/plain": [
       "<Figure size 864x360 with 2 Axes>"
      ]
     },
     "metadata": {},
     "output_type": "display_data"
    }
   ],
   "source": [
    "plot_history(history)"
   ]
  }
 ],
 "metadata": {
  "kernelspec": {
   "display_name": "Python 3 (ipykernel)",
   "language": "python",
   "name": "python3"
  },
  "language_info": {
   "codemirror_mode": {
    "name": "ipython",
    "version": 3
   },
   "file_extension": ".py",
   "mimetype": "text/x-python",
   "name": "python",
   "nbconvert_exporter": "python",
   "pygments_lexer": "ipython3",
   "version": "3.9.5"
  }
 },
 "nbformat": 4,
 "nbformat_minor": 5
}
